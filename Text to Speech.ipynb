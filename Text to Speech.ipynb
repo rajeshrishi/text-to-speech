{
 "cells": [
  {
   "cell_type": "markdown",
   "metadata": {},
   "source": [
    "<center><h1>TEXT TO SPEECH CONVERSION</h1></center>"
   ]
  },
  {
   "cell_type": "markdown",
   "metadata": {},
   "source": [
    "                                %%%%%%%%%%%%%%%%%%%%%%%%%%%%%%%%%%%%%%%%%%%%%%%%%%%%%%%%%\n",
    "                                %%%%%                                               %%%%%\n",
    "                                %%%%%                 RAJESH RISHI                  %%%%%\n",
    "                                %%%%%                                               %%%%%\n",
    "                                %%%%%         Programmed By: RAJESH RISHI           %%%%%\n",
    "                                %%%%%         ASSAM DON BOSCO UNIVERSITY            %%%%%\n",
    "                                %%%%%            SCHOOL OF TECHNOLOGY               %%%%%\n",
    "                                %%%%%               GUWAHATI,ASSAM                  %%%%%\n",
    "                                %%%%%                                               %%%%%\n",
    "                                %%%%%        Email: rajeshrishi26@gmail.com         %%%%%\n",
    "                                %%%%%                                               %%%%%\n",
    "                                %%%%%%%%%%%%%%%%%%%%%%%%%%%%%%%%%%%%%%%%%%%%%%%%%%%%%%%%%"
   ]
  },
  {
   "attachments": {},
   "cell_type": "markdown",
   "metadata": {},
   "source": [
    "# Project Overview\n",
    "HERE WE CAN :\n",
    "1. Create an mp3 from a string of text\n",
    "2. Ask the user for a text and create an mp3\n",
    "\n",
    "<img src=\"https://raw.githubusercontent.com/rajeshrishi/text-to-speech/master/download.jpg\"  layout=\"centre\">"
   ]
  },
  {
   "cell_type": "markdown",
   "metadata": {},
   "source": [
    "### Convert Text to Speech in Python\n",
    "There are several APIs available to convert text to speech in python. One of such APIs is the Google Text to Speech API commonly known as the gTTS API. gTTS is a very easy to use tool which converts the text entered, into audio which can be saved as a mp3 file. The gTTS API supports several languages including English, Hindi, Tamil, French, German and many more. The speech can be delivered in any one of the two available audio speeds, fast or slow. However, as of the latest update, it is not possible to change the voice of the generated audio.\n"
   ]
  },
  {
   "cell_type": "code",
   "execution_count": 1,
   "metadata": {},
   "outputs": [
    {
     "name": "stdout",
     "output_type": "stream",
     "text": [
      "Requirement already satisfied: gTTS in c:\\users\\rajesh rishi\\anaconda3\\lib\\site-packages (2.1.1)\n",
      "Requirement already satisfied: click in c:\\users\\rajesh rishi\\anaconda3\\lib\\site-packages (from gTTS) (7.0)\n",
      "Requirement already satisfied: beautifulsoup4 in c:\\users\\rajesh rishi\\anaconda3\\lib\\site-packages (from gTTS) (4.8.2)\n",
      "Requirement already satisfied: requests in c:\\users\\rajesh rishi\\anaconda3\\lib\\site-packages (from gTTS) (2.22.0)\n",
      "Requirement already satisfied: six in c:\\users\\rajesh rishi\\anaconda3\\lib\\site-packages (from gTTS) (1.14.0)\n",
      "Requirement already satisfied: gtts-token>=1.1.3 in c:\\users\\rajesh rishi\\anaconda3\\lib\\site-packages (from gTTS) (1.1.3)\n",
      "Requirement already satisfied: soupsieve>=1.2 in c:\\users\\rajesh rishi\\anaconda3\\lib\\site-packages (from beautifulsoup4->gTTS) (1.9.5)\n",
      "Requirement already satisfied: urllib3!=1.25.0,!=1.25.1,<1.26,>=1.21.1 in c:\\users\\rajesh rishi\\anaconda3\\lib\\site-packages (from requests->gTTS) (1.25.8)\n",
      "Requirement already satisfied: chardet<3.1.0,>=3.0.2 in c:\\users\\rajesh rishi\\anaconda3\\lib\\site-packages (from requests->gTTS) (3.0.4)\n",
      "Requirement already satisfied: certifi>=2017.4.17 in c:\\users\\rajesh rishi\\anaconda3\\lib\\site-packages (from requests->gTTS) (2019.11.28)\n",
      "Requirement already satisfied: idna<2.9,>=2.5 in c:\\users\\rajesh rishi\\anaconda3\\lib\\site-packages (from requests->gTTS) (2.8)\n"
     ]
    }
   ],
   "source": [
    "# Installing google text to speech\n",
    "! pip install gTTS    "
   ]
  },
  {
   "cell_type": "code",
   "execution_count": 2,
   "metadata": {},
   "outputs": [],
   "source": [
    "# Importing required module for text to speech conversion \n",
    "from gtts import gTTS"
   ]
  },
  {
   "cell_type": "code",
   "execution_count": 3,
   "metadata": {},
   "outputs": [],
   "source": [
    "# The text that we want to convert to audio \n",
    "text=\"AS U BEING MY FRIEND I WILL WARN ABOUT MY HUMAN BEING IN THE TELESCOPE. BUT WHAT I REALLY NEED TO TALK TO U ABOUT IS THE FLYING SAUSAGE INCIDENT I DON’T THINK I TALKED TO U ABOUT THIS BUT U REALLY SHOULD KNOW THAT I AM SECRETLY A FLYING SAUSAGE NOT ONLY AM I A FLYING SAUSAGE BUT I AM THE FLYING SAUSAGE THAT TOOK THE WALKING CHEESEBURGERS PICKLES. I NEED UR HELP TO ESCAPE THE POLICE MEN BECAUSE THE ONLY REASON I STOLE HIS PICKLES WAS BECAUSE I WAS GOING THROUGH THIS THING WHERE ALL I WANTED TO DO WAS EAT PICKLES AND MY MOM WOULDN’T BUY ANY. I HAD NO MONEY SO I DIDN’T KNOW WHAT ELSE TO DO. I WALKED OVER TO THE CHEESEURGER AND TOOK HIS PICKLES. APPARENTLY THATS AGAINST THE LAW BUT I STILL DID IT. I ALREADY ATE THE PICKLES SO I CAN’T RETURN THEM. I ASKED BOBBYJO TO PUT ME IN A BOX AND SEND ME TO NORTH CAROLINA SO I AM NOW IN NEW ENGLAND I NEED U TO GO ON A SECRET MISSION AND GO BUY ME A PRIVATE JET U SEE I CAN NOT FLY ANYMORE SO I NEED SOMEONE TO SEND ME A PRIVATE JET NOT A AIRPLANE I ALREADY HAVE 2,345 AIRPLANES PLEASE DO NOT SEND ME AN AIRPLANE.PLEASE AND THANK YOU I HOPE U CAN COMPLETE MY MISSION.\""
   ]
  },
  {
   "cell_type": "code",
   "execution_count": 4,
   "metadata": {},
   "outputs": [
    {
     "data": {
      "text/plain": [
       "'AS U BEING MY FRIEND I WILL WARN ABOUT MY HUMAN BEING IN THE TELESCOPE. BUT WHAT I REALLY NEED TO TALK TO U ABOUT IS THE FLYING SAUSAGE INCIDENT I DON’T THINK I TALKED TO U ABOUT THIS BUT U REALLY SHOULD KNOW THAT I AM SECRETLY A FLYING SAUSAGE NOT ONLY AM I A FLYING SAUSAGE BUT I AM THE FLYING SAUSAGE THAT TOOK THE WALKING CHEESEBURGERS PICKLES. I NEED UR HELP TO ESCAPE THE POLICE MEN BECAUSE THE ONLY REASON I STOLE HIS PICKLES WAS BECAUSE I WAS GOING THROUGH THIS THING WHERE ALL I WANTED TO DO WAS EAT PICKLES AND MY MOM WOULDN’T BUY ANY. I HAD NO MONEY SO I DIDN’T KNOW WHAT ELSE TO DO. I WALKED OVER TO THE CHEESEURGER AND TOOK HIS PICKLES. APPARENTLY THATS AGAINST THE LAW BUT I STILL DID IT. I ALREADY ATE THE PICKLES SO I CAN’T RETURN THEM. I ASKED BOBBYJO TO PUT ME IN A BOX AND SEND ME TO NORTH CAROLINA SO I AM NOW IN NEW ENGLAND I NEED U TO GO ON A SECRET MISSION AND GO BUY ME A PRIVATE JET U SEE I CAN NOT FLY ANYMORE SO I NEED SOMEONE TO SEND ME A PRIVATE JET NOT A AIRPLANE I ALREADY HAVE 2,345 AIRPLANES PLEASE DO NOT SEND ME AN AIRPLANE.PLEASE AND THANK YOU I HOPE U CAN COMPLETE MY MISSION.'"
      ]
     },
     "execution_count": 4,
     "metadata": {},
     "output_type": "execute_result"
    }
   ],
   "source": [
    "text"
   ]
  },
  {
   "cell_type": "code",
   "execution_count": 5,
   "metadata": {},
   "outputs": [],
   "source": [
    "language='en'"
   ]
  },
  {
   "cell_type": "code",
   "execution_count": 6,
   "metadata": {},
   "outputs": [],
   "source": [
    "# Passing the text and language to the engine, here we have marked slow=False. Which tells the module that the converted\n",
    "# audio should have a high speed.\n",
    "myobj=gTTS(text=text, lang=language, slow = False)"
   ]
  },
  {
   "cell_type": "code",
   "execution_count": 7,
   "metadata": {},
   "outputs": [],
   "source": [
    "# Saving the converted audio in a mp3 file named 'demo'.\n",
    "myobj.save(\"demo.mp3\")"
   ]
  },
  {
   "cell_type": "code",
   "execution_count": 8,
   "metadata": {},
   "outputs": [],
   "source": [
    "# Importing Operating System library\n",
    "# This module is imported so that we can play the converted audio. \n",
    "import os"
   ]
  },
  {
   "cell_type": "code",
   "execution_count": 9,
   "metadata": {},
   "outputs": [
    {
     "data": {
      "text/plain": [
       "0"
      ]
     },
     "execution_count": 9,
     "metadata": {},
     "output_type": "execute_result"
    }
   ],
   "source": [
    "# Playing the audio file from system default audio player.\n",
    "os.system('demo.mp3')"
   ]
  }
 ],
 "metadata": {
  "kernelspec": {
   "display_name": "Python 3",
   "language": "python",
   "name": "python3"
  },
  "language_info": {
   "codemirror_mode": {
    "name": "ipython",
    "version": 3
   },
   "file_extension": ".py",
   "mimetype": "text/x-python",
   "name": "python",
   "nbconvert_exporter": "python",
   "pygments_lexer": "ipython3",
   "version": "3.7.6"
  }
 },
 "nbformat": 4,
 "nbformat_minor": 4
}
